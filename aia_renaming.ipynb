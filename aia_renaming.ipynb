{
 "cells": [
  {
   "cell_type": "code",
   "execution_count": null,
   "metadata": {},
   "outputs": [],
   "source": [
    "#  region3_123000-140000_94.0 Angstrom_N21_lc.csv\n",
    "\n",
    "# to \n",
    "\n",
    "# lc_20220906T090000.0-20220906T111000.0_171_N21_reg2.csv"
   ]
  },
  {
   "cell_type": "code",
   "execution_count": null,
   "metadata": {},
   "outputs": [],
   "source": [
    "from os import listdir\n",
    "from shutil import copy2"
   ]
  },
  {
   "cell_type": "code",
   "execution_count": null,
   "metadata": {},
   "outputs": [],
   "source": [
    "ORIG_DIR = '/Users/theo/Downloads/encounter14_round2/'\n",
    "DEST_DIR = '/Users/theo/Documents/NewPeriodicity/DATA/AIA/'\n",
    "\n",
    "for dir_name in listdir(ORIG_DIR)[1:]:\n",
    "    for fname in listdir(ORIG_DIR + dir_name + '/aia/'):\n",
    "        if fname.split('.')[-1] == 'csv':\n",
    "            parts = fname.split('_')\n",
    "            region = parts[0][-1]\n",
    "            date = dir_name\n",
    "            t_start = parts[1].split('-')[0]\n",
    "            t_end = parts[1].split('-')[1]\n",
    "            wavelength = parts[2].split('.')[0]\n",
    "            new_fname = f'lc_{date}T{t_start}.0-{date}T{t_end}.0_{wavelength}_N21_reg{region}.csv'\n",
    "            copy2(ORIG_DIR + dir_name + '/aia/' + fname, DEST_DIR + new_fname)"
   ]
  }
 ],
 "metadata": {
  "kernelspec": {
   "display_name": "urs",
   "language": "python",
   "name": "python3"
  },
  "language_info": {
   "codemirror_mode": {
    "name": "ipython",
    "version": 3
   },
   "file_extension": ".py",
   "mimetype": "text/x-python",
   "name": "python",
   "nbconvert_exporter": "python",
   "pygments_lexer": "ipython3",
   "version": "3.10.8"
  },
  "orig_nbformat": 4
 },
 "nbformat": 4,
 "nbformat_minor": 2
}
